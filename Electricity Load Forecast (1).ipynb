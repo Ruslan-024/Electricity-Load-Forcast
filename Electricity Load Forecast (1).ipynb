{
 "cells": [
  {
   "cell_type": "markdown",
   "id": "2b38a449",
   "metadata": {
    "scrolled": true
   },
   "source": [
    "# Project description"
   ]
  },
  {
   "cell_type": "markdown",
   "id": "ffdcd93f",
   "metadata": {},
   "source": [
    "The goal was to make a model for predicting electricity demand, based on ENTSO-E electricity load data. The data is available at the link below.\n",
    "\n",
    "https://eepublicdownloads.blob.core.windows.net/public-cdn-container/clean-documents/Publications/Statistics/MHLV_data-2015-2017.xlsx"
   ]
  },
  {
   "cell_type": "markdown",
   "id": "8d6ac24a",
   "metadata": {},
   "source": [
    "## Data download"
   ]
  },
  {
   "cell_type": "code",
   "execution_count": 1,
   "id": "ebcb962e",
   "metadata": {},
   "outputs": [],
   "source": [
    "import pandas as pd\n",
    "import nltk\n",
    "import re\n",
    "import numpy as np\n",
    "from statsmodels.tsa.seasonal import seasonal_decompose\n",
    "import matplotlib.pyplot as plt\n",
    "from sklearn.model_selection import train_test_split\n",
    "from sklearn.metrics import mean_absolute_error\n",
    "import numpy as np\n",
    "from sklearn.linear_model import LinearRegression\n",
    "from sklearn.preprocessing import StandardScaler\n",
    "from sklearn.ensemble import RandomForestRegressor\n",
    "from lightgbm import LGBMRegressor\n",
    "from sklearn.model_selection import GridSearchCV\n",
    "from sklearn.preprocessing import OrdinalEncoder \n",
    "from math import sqrt\n",
    "from sklearn.metrics import mean_squared_error\n",
    "from sklearn.model_selection import TimeSeriesSplit\n",
    "from sklearn.neighbors import KNeighborsRegressor"
   ]
  },
  {
   "cell_type": "code",
   "execution_count": 2,
   "id": "49356ee8",
   "metadata": {},
   "outputs": [
    {
     "name": "stdout",
     "output_type": "stream",
     "text": [
      "Index(['MeasureItem', 'DateUTC', 'DateShort', 'TimeFrom', 'TimeTo',\n",
      "       'CountryCode', 'Cov_ratio', 'Value', 'Value_ScaleTo100'],\n",
      "      dtype='object')\n",
      "<class 'pandas.core.frame.DataFrame'>\n",
      "RangeIndex: 631600 entries, 0 to 631599\n",
      "Data columns (total 9 columns):\n",
      " #   Column            Non-Null Count   Dtype         \n",
      "---  ------            --------------   -----         \n",
      " 0   MeasureItem       631600 non-null  object        \n",
      " 1   DateUTC           631600 non-null  datetime64[ns]\n",
      " 2   DateShort         631600 non-null  datetime64[ns]\n",
      " 3   TimeFrom          631600 non-null  object        \n",
      " 4   TimeTo            631600 non-null  object        \n",
      " 5   CountryCode       631600 non-null  object        \n",
      " 6   Cov_ratio         631600 non-null  int64         \n",
      " 7   Value             631600 non-null  float64       \n",
      " 8   Value_ScaleTo100  631600 non-null  float64       \n",
      "dtypes: datetime64[ns](2), float64(2), int64(1), object(4)\n",
      "memory usage: 43.4+ MB\n",
      "None\n",
      "\n",
      "\n",
      "                       MeasureItem             DateUTC  DateShort  TimeFrom  \\\n",
      "0       Monthly Hourly Load Values 2014-12-31 23:00:00 2014-12-31  23:00:00   \n",
      "1       Monthly Hourly Load Values 2015-01-01 00:00:00 2015-01-01  00:00:00   \n",
      "2       Monthly Hourly Load Values 2015-01-01 01:00:00 2015-01-01  01:00:00   \n",
      "3       Monthly Hourly Load Values 2015-01-01 02:00:00 2015-01-01  02:00:00   \n",
      "4       Monthly Hourly Load Values 2015-01-01 03:00:00 2015-01-01  03:00:00   \n",
      "...                            ...                 ...        ...       ...   \n",
      "631595  Monthly Hourly Load Values 2017-12-31 23:00:00 2017-12-31  23:00:00   \n",
      "631596  Monthly Hourly Load Values 2017-12-31 23:00:00 2017-12-31  23:00:00   \n",
      "631597  Monthly Hourly Load Values 2017-12-31 23:00:00 2017-12-31  23:00:00   \n",
      "631598  Monthly Hourly Load Values 2017-12-31 23:00:00 2017-12-31  23:00:00   \n",
      "631599  Monthly Hourly Load Values 2017-12-31 23:00:00 2017-12-31  23:00:00   \n",
      "\n",
      "          TimeTo CountryCode  Cov_ratio     Value  Value_ScaleTo100  \n",
      "0       00:00:00          DE         98  46419.79      47367.132653  \n",
      "1       01:00:00          DE         98  44898.30      45814.591837  \n",
      "2       02:00:00          DE         98  43305.31      44189.091837  \n",
      "3       03:00:00          DE         98  41918.17      42773.642857  \n",
      "4       04:00:00          DE         98  41330.17      42173.642857  \n",
      "...          ...         ...        ...       ...               ...  \n",
      "631595  00:00:00          RS        100   5095.00       5095.000000  \n",
      "631596  00:00:00          SE        100  16054.00      16054.000000  \n",
      "631597  00:00:00          SI        100   1130.00       1130.000000  \n",
      "631598  00:00:00          SK        100   2844.67       2844.670000  \n",
      "631599  00:00:00          TR        100  26324.39      26324.390000  \n",
      "\n",
      "[631600 rows x 9 columns]\n",
      "Wall time: 1min 48s\n"
     ]
    }
   ],
   "source": [
    "%%time\n",
    "df = pd.read_excel(r'C:\\Users\\Рус\\Desktop\\python\\Новая папка\\MHLV_data-2015-2017.xlsx')\n",
    "\n",
    "print(df.keys())\n",
    "\n",
    "print(df.info())\n",
    "print('\\n')\n",
    "\n",
    "print(df)\n"
   ]
  },
  {
   "cell_type": "markdown",
   "id": "4c54f344",
   "metadata": {},
   "source": [
    "## Preprocessing"
   ]
  },
  {
   "cell_type": "code",
   "execution_count": 3,
   "id": "7be13960",
   "metadata": {},
   "outputs": [
    {
     "data": {
      "text/plain": [
       "array(['DE', 'BG', 'EE', 'FI', 'GR', 'LT', 'LV', 'RO', 'TR', 'AT', 'BA',\n",
       "       'BE', 'CH', 'CY', 'CZ', 'DK', 'ES', 'FR', 'HR', 'HU', 'IT', 'LU',\n",
       "       'ME', 'MK', 'NL', 'NO', 'PL', 'RS', 'SE', 'SI', 'SK', 'GB', 'IE',\n",
       "       'IS', 'PT', 'AL'], dtype=object)"
      ]
     },
     "execution_count": 3,
     "metadata": {},
     "output_type": "execute_result"
    }
   ],
   "source": [
    "df['CountryCode'].unique()"
   ]
  },
  {
   "cell_type": "markdown",
   "id": "a8d5d150",
   "metadata": {},
   "source": [
    "Selecting table data by Country Code column. I need only one country data. So i chose DE or Denmark."
   ]
  },
  {
   "cell_type": "code",
   "execution_count": 4,
   "id": "02766808",
   "metadata": {},
   "outputs": [],
   "source": [
    "df_de = df.query('CountryCode == \"DE\"')"
   ]
  },
  {
   "cell_type": "markdown",
   "id": "9611db9d",
   "metadata": {},
   "source": [
    "Removing all extra columns."
   ]
  },
  {
   "cell_type": "code",
   "execution_count": 5,
   "id": "4a6f01ae",
   "metadata": {},
   "outputs": [
    {
     "name": "stdout",
     "output_type": "stream",
     "text": [
      "              DateUTC     Value\n",
      "0 2014-12-31 23:00:00  46419.79\n",
      "1 2015-01-01 00:00:00  44898.30\n",
      "2 2015-01-01 01:00:00  43305.31\n",
      "3 2015-01-01 02:00:00  41918.17\n",
      "4 2015-01-01 03:00:00  41330.17\n"
     ]
    }
   ],
   "source": [
    "df_de = df_de.drop(['MeasureItem','DateShort','TimeFrom','TimeTo','CountryCode','Cov_ratio','Value_ScaleTo100'], axis = 1)\n",
    "print(df_de.head(5))"
   ]
  },
  {
   "cell_type": "code",
   "execution_count": 6,
   "id": "6872e639",
   "metadata": {},
   "outputs": [
    {
     "data": {
      "text/html": [
       "<div>\n",
       "<style scoped>\n",
       "    .dataframe tbody tr th:only-of-type {\n",
       "        vertical-align: middle;\n",
       "    }\n",
       "\n",
       "    .dataframe tbody tr th {\n",
       "        vertical-align: top;\n",
       "    }\n",
       "\n",
       "    .dataframe thead th {\n",
       "        text-align: right;\n",
       "    }\n",
       "</style>\n",
       "<table border=\"1\" class=\"dataframe\">\n",
       "  <thead>\n",
       "    <tr style=\"text-align: right;\">\n",
       "      <th></th>\n",
       "      <th>Value</th>\n",
       "    </tr>\n",
       "  </thead>\n",
       "  <tbody>\n",
       "    <tr>\n",
       "      <th>count</th>\n",
       "      <td>26305.000000</td>\n",
       "    </tr>\n",
       "    <tr>\n",
       "      <th>mean</th>\n",
       "      <td>57760.229774</td>\n",
       "    </tr>\n",
       "    <tr>\n",
       "      <th>std</th>\n",
       "      <td>10222.452224</td>\n",
       "    </tr>\n",
       "    <tr>\n",
       "      <th>min</th>\n",
       "      <td>35084.520000</td>\n",
       "    </tr>\n",
       "    <tr>\n",
       "      <th>25%</th>\n",
       "      <td>49097.050000</td>\n",
       "    </tr>\n",
       "    <tr>\n",
       "      <th>50%</th>\n",
       "      <td>57448.620000</td>\n",
       "    </tr>\n",
       "    <tr>\n",
       "      <th>75%</th>\n",
       "      <td>66711.240000</td>\n",
       "    </tr>\n",
       "    <tr>\n",
       "      <th>max</th>\n",
       "      <td>79487.370000</td>\n",
       "    </tr>\n",
       "  </tbody>\n",
       "</table>\n",
       "</div>"
      ],
      "text/plain": [
       "              Value\n",
       "count  26305.000000\n",
       "mean   57760.229774\n",
       "std    10222.452224\n",
       "min    35084.520000\n",
       "25%    49097.050000\n",
       "50%    57448.620000\n",
       "75%    66711.240000\n",
       "max    79487.370000"
      ]
     },
     "execution_count": 6,
     "metadata": {},
     "output_type": "execute_result"
    }
   ],
   "source": [
    "df_de.describe()"
   ]
  },
  {
   "cell_type": "markdown",
   "id": "142c3550",
   "metadata": {},
   "source": [
    "Turning the DateUTC column into index."
   ]
  },
  {
   "cell_type": "code",
   "execution_count": 7,
   "id": "8678955c",
   "metadata": {},
   "outputs": [
    {
     "name": "stdout",
     "output_type": "stream",
     "text": [
      "True\n",
      "Wall time: 10 ms\n"
     ]
    }
   ],
   "source": [
    "%%time\n",
    "df_de['DateUTC'] = pd.to_datetime(df_de['DateUTC'], format='%Y-%m-%dT%H:%M:%S')\n",
    "df_de = df_de.set_index('DateUTC')\n",
    "print(df_de.index.is_monotonic)"
   ]
  },
  {
   "cell_type": "code",
   "execution_count": 8,
   "id": "c682e1bb",
   "metadata": {},
   "outputs": [
    {
     "name": "stdout",
     "output_type": "stream",
     "text": [
      "                        Value\n",
      "DateUTC                      \n",
      "2014-12-31 23:00:00  46419.79\n",
      "2015-01-01 00:00:00  44898.30\n",
      "2015-01-01 01:00:00  43305.31\n",
      "2015-01-01 02:00:00  41918.17\n",
      "2015-01-01 03:00:00  41330.17\n"
     ]
    }
   ],
   "source": [
    "print(df_de.head(5))"
   ]
  },
  {
   "cell_type": "markdown",
   "id": "296d3f72",
   "metadata": {},
   "source": [
    "A function that creates features for machine learning."
   ]
  },
  {
   "cell_type": "code",
   "execution_count": 9,
   "id": "7e642ef8",
   "metadata": {},
   "outputs": [
    {
     "name": "stdout",
     "output_type": "stream",
     "text": [
      "Wall time: 23.5 ms\n"
     ]
    }
   ],
   "source": [
    "%%time\n",
    "def make_features(df, max_lag):\n",
    "    df_de['year'] = df_de.index.year\n",
    "    df_de['month'] = df_de.index.month\n",
    "    df_de['day'] = df_de.index.day\n",
    "    df_de['dayofweek'] = df_de.index.dayofweek\n",
    "    df_de['hournmb'] = df_de.index.hour\n",
    "    \n",
    "    for lag in range(1, max_lag + 1):\n",
    "        df_de['lag_{}'.format(lag)] = df_de['Value'].shift(lag)\n",
    "    \n",
    "\n",
    "make_features(df, 23)"
   ]
  },
  {
   "cell_type": "code",
   "execution_count": 10,
   "id": "44f4beba",
   "metadata": {},
   "outputs": [
    {
     "data": {
      "text/html": [
       "<div>\n",
       "<style scoped>\n",
       "    .dataframe tbody tr th:only-of-type {\n",
       "        vertical-align: middle;\n",
       "    }\n",
       "\n",
       "    .dataframe tbody tr th {\n",
       "        vertical-align: top;\n",
       "    }\n",
       "\n",
       "    .dataframe thead th {\n",
       "        text-align: right;\n",
       "    }\n",
       "</style>\n",
       "<table border=\"1\" class=\"dataframe\">\n",
       "  <thead>\n",
       "    <tr style=\"text-align: right;\">\n",
       "      <th></th>\n",
       "      <th>Value</th>\n",
       "      <th>year</th>\n",
       "      <th>month</th>\n",
       "      <th>day</th>\n",
       "      <th>dayofweek</th>\n",
       "      <th>hournmb</th>\n",
       "      <th>lag_1</th>\n",
       "      <th>lag_2</th>\n",
       "      <th>lag_3</th>\n",
       "      <th>lag_4</th>\n",
       "      <th>...</th>\n",
       "      <th>lag_14</th>\n",
       "      <th>lag_15</th>\n",
       "      <th>lag_16</th>\n",
       "      <th>lag_17</th>\n",
       "      <th>lag_18</th>\n",
       "      <th>lag_19</th>\n",
       "      <th>lag_20</th>\n",
       "      <th>lag_21</th>\n",
       "      <th>lag_22</th>\n",
       "      <th>lag_23</th>\n",
       "    </tr>\n",
       "    <tr>\n",
       "      <th>DateUTC</th>\n",
       "      <th></th>\n",
       "      <th></th>\n",
       "      <th></th>\n",
       "      <th></th>\n",
       "      <th></th>\n",
       "      <th></th>\n",
       "      <th></th>\n",
       "      <th></th>\n",
       "      <th></th>\n",
       "      <th></th>\n",
       "      <th></th>\n",
       "      <th></th>\n",
       "      <th></th>\n",
       "      <th></th>\n",
       "      <th></th>\n",
       "      <th></th>\n",
       "      <th></th>\n",
       "      <th></th>\n",
       "      <th></th>\n",
       "      <th></th>\n",
       "      <th></th>\n",
       "    </tr>\n",
       "  </thead>\n",
       "  <tbody>\n",
       "    <tr>\n",
       "      <th>2014-12-31 23:00:00</th>\n",
       "      <td>46419.79</td>\n",
       "      <td>2014</td>\n",
       "      <td>12</td>\n",
       "      <td>31</td>\n",
       "      <td>2</td>\n",
       "      <td>23</td>\n",
       "      <td>NaN</td>\n",
       "      <td>NaN</td>\n",
       "      <td>NaN</td>\n",
       "      <td>NaN</td>\n",
       "      <td>...</td>\n",
       "      <td>NaN</td>\n",
       "      <td>NaN</td>\n",
       "      <td>NaN</td>\n",
       "      <td>NaN</td>\n",
       "      <td>NaN</td>\n",
       "      <td>NaN</td>\n",
       "      <td>NaN</td>\n",
       "      <td>NaN</td>\n",
       "      <td>NaN</td>\n",
       "      <td>NaN</td>\n",
       "    </tr>\n",
       "    <tr>\n",
       "      <th>2015-01-01 00:00:00</th>\n",
       "      <td>44898.30</td>\n",
       "      <td>2015</td>\n",
       "      <td>1</td>\n",
       "      <td>1</td>\n",
       "      <td>3</td>\n",
       "      <td>0</td>\n",
       "      <td>46419.79</td>\n",
       "      <td>NaN</td>\n",
       "      <td>NaN</td>\n",
       "      <td>NaN</td>\n",
       "      <td>...</td>\n",
       "      <td>NaN</td>\n",
       "      <td>NaN</td>\n",
       "      <td>NaN</td>\n",
       "      <td>NaN</td>\n",
       "      <td>NaN</td>\n",
       "      <td>NaN</td>\n",
       "      <td>NaN</td>\n",
       "      <td>NaN</td>\n",
       "      <td>NaN</td>\n",
       "      <td>NaN</td>\n",
       "    </tr>\n",
       "    <tr>\n",
       "      <th>2015-01-01 01:00:00</th>\n",
       "      <td>43305.31</td>\n",
       "      <td>2015</td>\n",
       "      <td>1</td>\n",
       "      <td>1</td>\n",
       "      <td>3</td>\n",
       "      <td>1</td>\n",
       "      <td>44898.30</td>\n",
       "      <td>46419.79</td>\n",
       "      <td>NaN</td>\n",
       "      <td>NaN</td>\n",
       "      <td>...</td>\n",
       "      <td>NaN</td>\n",
       "      <td>NaN</td>\n",
       "      <td>NaN</td>\n",
       "      <td>NaN</td>\n",
       "      <td>NaN</td>\n",
       "      <td>NaN</td>\n",
       "      <td>NaN</td>\n",
       "      <td>NaN</td>\n",
       "      <td>NaN</td>\n",
       "      <td>NaN</td>\n",
       "    </tr>\n",
       "    <tr>\n",
       "      <th>2015-01-01 02:00:00</th>\n",
       "      <td>41918.17</td>\n",
       "      <td>2015</td>\n",
       "      <td>1</td>\n",
       "      <td>1</td>\n",
       "      <td>3</td>\n",
       "      <td>2</td>\n",
       "      <td>43305.31</td>\n",
       "      <td>44898.30</td>\n",
       "      <td>46419.79</td>\n",
       "      <td>NaN</td>\n",
       "      <td>...</td>\n",
       "      <td>NaN</td>\n",
       "      <td>NaN</td>\n",
       "      <td>NaN</td>\n",
       "      <td>NaN</td>\n",
       "      <td>NaN</td>\n",
       "      <td>NaN</td>\n",
       "      <td>NaN</td>\n",
       "      <td>NaN</td>\n",
       "      <td>NaN</td>\n",
       "      <td>NaN</td>\n",
       "    </tr>\n",
       "    <tr>\n",
       "      <th>2015-01-01 03:00:00</th>\n",
       "      <td>41330.17</td>\n",
       "      <td>2015</td>\n",
       "      <td>1</td>\n",
       "      <td>1</td>\n",
       "      <td>3</td>\n",
       "      <td>3</td>\n",
       "      <td>41918.17</td>\n",
       "      <td>43305.31</td>\n",
       "      <td>44898.30</td>\n",
       "      <td>46419.79</td>\n",
       "      <td>...</td>\n",
       "      <td>NaN</td>\n",
       "      <td>NaN</td>\n",
       "      <td>NaN</td>\n",
       "      <td>NaN</td>\n",
       "      <td>NaN</td>\n",
       "      <td>NaN</td>\n",
       "      <td>NaN</td>\n",
       "      <td>NaN</td>\n",
       "      <td>NaN</td>\n",
       "      <td>NaN</td>\n",
       "    </tr>\n",
       "  </tbody>\n",
       "</table>\n",
       "<p>5 rows × 29 columns</p>\n",
       "</div>"
      ],
      "text/plain": [
       "                        Value  year  month  day  dayofweek  hournmb     lag_1  \\\n",
       "DateUTC                                                                         \n",
       "2014-12-31 23:00:00  46419.79  2014     12   31          2       23       NaN   \n",
       "2015-01-01 00:00:00  44898.30  2015      1    1          3        0  46419.79   \n",
       "2015-01-01 01:00:00  43305.31  2015      1    1          3        1  44898.30   \n",
       "2015-01-01 02:00:00  41918.17  2015      1    1          3        2  43305.31   \n",
       "2015-01-01 03:00:00  41330.17  2015      1    1          3        3  41918.17   \n",
       "\n",
       "                        lag_2     lag_3     lag_4  ...  lag_14  lag_15  \\\n",
       "DateUTC                                            ...                   \n",
       "2014-12-31 23:00:00       NaN       NaN       NaN  ...     NaN     NaN   \n",
       "2015-01-01 00:00:00       NaN       NaN       NaN  ...     NaN     NaN   \n",
       "2015-01-01 01:00:00  46419.79       NaN       NaN  ...     NaN     NaN   \n",
       "2015-01-01 02:00:00  44898.30  46419.79       NaN  ...     NaN     NaN   \n",
       "2015-01-01 03:00:00  43305.31  44898.30  46419.79  ...     NaN     NaN   \n",
       "\n",
       "                     lag_16  lag_17  lag_18  lag_19  lag_20  lag_21  lag_22  \\\n",
       "DateUTC                                                                       \n",
       "2014-12-31 23:00:00     NaN     NaN     NaN     NaN     NaN     NaN     NaN   \n",
       "2015-01-01 00:00:00     NaN     NaN     NaN     NaN     NaN     NaN     NaN   \n",
       "2015-01-01 01:00:00     NaN     NaN     NaN     NaN     NaN     NaN     NaN   \n",
       "2015-01-01 02:00:00     NaN     NaN     NaN     NaN     NaN     NaN     NaN   \n",
       "2015-01-01 03:00:00     NaN     NaN     NaN     NaN     NaN     NaN     NaN   \n",
       "\n",
       "                     lag_23  \n",
       "DateUTC                      \n",
       "2014-12-31 23:00:00     NaN  \n",
       "2015-01-01 00:00:00     NaN  \n",
       "2015-01-01 01:00:00     NaN  \n",
       "2015-01-01 02:00:00     NaN  \n",
       "2015-01-01 03:00:00     NaN  \n",
       "\n",
       "[5 rows x 29 columns]"
      ]
     },
     "execution_count": 10,
     "metadata": {},
     "output_type": "execute_result"
    }
   ],
   "source": [
    "df_de.head(5)"
   ]
  },
  {
   "cell_type": "code",
   "execution_count": 11,
   "id": "6154adc7",
   "metadata": {},
   "outputs": [],
   "source": [
    "df_de = df_de.dropna()"
   ]
  },
  {
   "cell_type": "code",
   "execution_count": 12,
   "id": "030e0a86",
   "metadata": {},
   "outputs": [
    {
     "data": {
      "text/html": [
       "<div>\n",
       "<style scoped>\n",
       "    .dataframe tbody tr th:only-of-type {\n",
       "        vertical-align: middle;\n",
       "    }\n",
       "\n",
       "    .dataframe tbody tr th {\n",
       "        vertical-align: top;\n",
       "    }\n",
       "\n",
       "    .dataframe thead th {\n",
       "        text-align: right;\n",
       "    }\n",
       "</style>\n",
       "<table border=\"1\" class=\"dataframe\">\n",
       "  <thead>\n",
       "    <tr style=\"text-align: right;\">\n",
       "      <th></th>\n",
       "      <th>Value</th>\n",
       "      <th>year</th>\n",
       "      <th>month</th>\n",
       "      <th>day</th>\n",
       "      <th>dayofweek</th>\n",
       "      <th>hournmb</th>\n",
       "      <th>lag_1</th>\n",
       "      <th>lag_2</th>\n",
       "      <th>lag_3</th>\n",
       "      <th>lag_4</th>\n",
       "      <th>...</th>\n",
       "      <th>lag_14</th>\n",
       "      <th>lag_15</th>\n",
       "      <th>lag_16</th>\n",
       "      <th>lag_17</th>\n",
       "      <th>lag_18</th>\n",
       "      <th>lag_19</th>\n",
       "      <th>lag_20</th>\n",
       "      <th>lag_21</th>\n",
       "      <th>lag_22</th>\n",
       "      <th>lag_23</th>\n",
       "    </tr>\n",
       "    <tr>\n",
       "      <th>DateUTC</th>\n",
       "      <th></th>\n",
       "      <th></th>\n",
       "      <th></th>\n",
       "      <th></th>\n",
       "      <th></th>\n",
       "      <th></th>\n",
       "      <th></th>\n",
       "      <th></th>\n",
       "      <th></th>\n",
       "      <th></th>\n",
       "      <th></th>\n",
       "      <th></th>\n",
       "      <th></th>\n",
       "      <th></th>\n",
       "      <th></th>\n",
       "      <th></th>\n",
       "      <th></th>\n",
       "      <th></th>\n",
       "      <th></th>\n",
       "      <th></th>\n",
       "      <th></th>\n",
       "    </tr>\n",
       "  </thead>\n",
       "  <tbody>\n",
       "    <tr>\n",
       "      <th>2015-01-01 22:00:00</th>\n",
       "      <td>47987.90</td>\n",
       "      <td>2015</td>\n",
       "      <td>1</td>\n",
       "      <td>1</td>\n",
       "      <td>3</td>\n",
       "      <td>22</td>\n",
       "      <td>50802.46</td>\n",
       "      <td>51026.32</td>\n",
       "      <td>52220.90</td>\n",
       "      <td>54365.26</td>\n",
       "      <td>...</td>\n",
       "      <td>42361.15</td>\n",
       "      <td>40049.74</td>\n",
       "      <td>39372.50</td>\n",
       "      <td>39132.17</td>\n",
       "      <td>40643.13</td>\n",
       "      <td>41330.17</td>\n",
       "      <td>41918.17</td>\n",
       "      <td>43305.31</td>\n",
       "      <td>44898.30</td>\n",
       "      <td>46419.79</td>\n",
       "    </tr>\n",
       "    <tr>\n",
       "      <th>2015-01-01 23:00:00</th>\n",
       "      <td>45267.68</td>\n",
       "      <td>2015</td>\n",
       "      <td>1</td>\n",
       "      <td>1</td>\n",
       "      <td>3</td>\n",
       "      <td>23</td>\n",
       "      <td>47987.90</td>\n",
       "      <td>50802.46</td>\n",
       "      <td>51026.32</td>\n",
       "      <td>52220.90</td>\n",
       "      <td>...</td>\n",
       "      <td>44998.15</td>\n",
       "      <td>42361.15</td>\n",
       "      <td>40049.74</td>\n",
       "      <td>39372.50</td>\n",
       "      <td>39132.17</td>\n",
       "      <td>40643.13</td>\n",
       "      <td>41330.17</td>\n",
       "      <td>41918.17</td>\n",
       "      <td>43305.31</td>\n",
       "      <td>44898.30</td>\n",
       "    </tr>\n",
       "    <tr>\n",
       "      <th>2015-01-02 00:00:00</th>\n",
       "      <td>43332.57</td>\n",
       "      <td>2015</td>\n",
       "      <td>1</td>\n",
       "      <td>2</td>\n",
       "      <td>4</td>\n",
       "      <td>0</td>\n",
       "      <td>45267.68</td>\n",
       "      <td>47987.90</td>\n",
       "      <td>50802.46</td>\n",
       "      <td>51026.32</td>\n",
       "      <td>...</td>\n",
       "      <td>48057.62</td>\n",
       "      <td>44998.15</td>\n",
       "      <td>42361.15</td>\n",
       "      <td>40049.74</td>\n",
       "      <td>39372.50</td>\n",
       "      <td>39132.17</td>\n",
       "      <td>40643.13</td>\n",
       "      <td>41330.17</td>\n",
       "      <td>41918.17</td>\n",
       "      <td>43305.31</td>\n",
       "    </tr>\n",
       "    <tr>\n",
       "      <th>2015-01-02 01:00:00</th>\n",
       "      <td>42373.20</td>\n",
       "      <td>2015</td>\n",
       "      <td>1</td>\n",
       "      <td>2</td>\n",
       "      <td>4</td>\n",
       "      <td>1</td>\n",
       "      <td>43332.57</td>\n",
       "      <td>45267.68</td>\n",
       "      <td>47987.90</td>\n",
       "      <td>50802.46</td>\n",
       "      <td>...</td>\n",
       "      <td>49133.93</td>\n",
       "      <td>48057.62</td>\n",
       "      <td>44998.15</td>\n",
       "      <td>42361.15</td>\n",
       "      <td>40049.74</td>\n",
       "      <td>39372.50</td>\n",
       "      <td>39132.17</td>\n",
       "      <td>40643.13</td>\n",
       "      <td>41330.17</td>\n",
       "      <td>41918.17</td>\n",
       "    </tr>\n",
       "    <tr>\n",
       "      <th>2015-01-02 02:00:00</th>\n",
       "      <td>42208.23</td>\n",
       "      <td>2015</td>\n",
       "      <td>1</td>\n",
       "      <td>2</td>\n",
       "      <td>4</td>\n",
       "      <td>2</td>\n",
       "      <td>42373.20</td>\n",
       "      <td>43332.57</td>\n",
       "      <td>45267.68</td>\n",
       "      <td>47987.90</td>\n",
       "      <td>...</td>\n",
       "      <td>48444.78</td>\n",
       "      <td>49133.93</td>\n",
       "      <td>48057.62</td>\n",
       "      <td>44998.15</td>\n",
       "      <td>42361.15</td>\n",
       "      <td>40049.74</td>\n",
       "      <td>39372.50</td>\n",
       "      <td>39132.17</td>\n",
       "      <td>40643.13</td>\n",
       "      <td>41330.17</td>\n",
       "    </tr>\n",
       "    <tr>\n",
       "      <th>...</th>\n",
       "      <td>...</td>\n",
       "      <td>...</td>\n",
       "      <td>...</td>\n",
       "      <td>...</td>\n",
       "      <td>...</td>\n",
       "      <td>...</td>\n",
       "      <td>...</td>\n",
       "      <td>...</td>\n",
       "      <td>...</td>\n",
       "      <td>...</td>\n",
       "      <td>...</td>\n",
       "      <td>...</td>\n",
       "      <td>...</td>\n",
       "      <td>...</td>\n",
       "      <td>...</td>\n",
       "      <td>...</td>\n",
       "      <td>...</td>\n",
       "      <td>...</td>\n",
       "      <td>...</td>\n",
       "      <td>...</td>\n",
       "      <td>...</td>\n",
       "    </tr>\n",
       "    <tr>\n",
       "      <th>2017-12-31 19:00:00</th>\n",
       "      <td>49041.19</td>\n",
       "      <td>2017</td>\n",
       "      <td>12</td>\n",
       "      <td>31</td>\n",
       "      <td>6</td>\n",
       "      <td>19</td>\n",
       "      <td>52369.34</td>\n",
       "      <td>55217.78</td>\n",
       "      <td>55723.32</td>\n",
       "      <td>52701.17</td>\n",
       "      <td>...</td>\n",
       "      <td>37803.14</td>\n",
       "      <td>37705.71</td>\n",
       "      <td>37789.72</td>\n",
       "      <td>38004.46</td>\n",
       "      <td>38869.25</td>\n",
       "      <td>40696.11</td>\n",
       "      <td>43386.63</td>\n",
       "      <td>47122.58</td>\n",
       "      <td>50689.38</td>\n",
       "      <td>52207.48</td>\n",
       "    </tr>\n",
       "    <tr>\n",
       "      <th>2017-12-31 20:00:00</th>\n",
       "      <td>47306.32</td>\n",
       "      <td>2017</td>\n",
       "      <td>12</td>\n",
       "      <td>31</td>\n",
       "      <td>6</td>\n",
       "      <td>20</td>\n",
       "      <td>49041.19</td>\n",
       "      <td>52369.34</td>\n",
       "      <td>55217.78</td>\n",
       "      <td>55723.32</td>\n",
       "      <td>...</td>\n",
       "      <td>39599.65</td>\n",
       "      <td>37803.14</td>\n",
       "      <td>37705.71</td>\n",
       "      <td>37789.72</td>\n",
       "      <td>38004.46</td>\n",
       "      <td>38869.25</td>\n",
       "      <td>40696.11</td>\n",
       "      <td>43386.63</td>\n",
       "      <td>47122.58</td>\n",
       "      <td>50689.38</td>\n",
       "    </tr>\n",
       "    <tr>\n",
       "      <th>2017-12-31 21:00:00</th>\n",
       "      <td>47068.99</td>\n",
       "      <td>2017</td>\n",
       "      <td>12</td>\n",
       "      <td>31</td>\n",
       "      <td>6</td>\n",
       "      <td>21</td>\n",
       "      <td>47306.32</td>\n",
       "      <td>49041.19</td>\n",
       "      <td>52369.34</td>\n",
       "      <td>55217.78</td>\n",
       "      <td>...</td>\n",
       "      <td>42237.75</td>\n",
       "      <td>39599.65</td>\n",
       "      <td>37803.14</td>\n",
       "      <td>37705.71</td>\n",
       "      <td>37789.72</td>\n",
       "      <td>38004.46</td>\n",
       "      <td>38869.25</td>\n",
       "      <td>40696.11</td>\n",
       "      <td>43386.63</td>\n",
       "      <td>47122.58</td>\n",
       "    </tr>\n",
       "    <tr>\n",
       "      <th>2017-12-31 22:00:00</th>\n",
       "      <td>44983.93</td>\n",
       "      <td>2017</td>\n",
       "      <td>12</td>\n",
       "      <td>31</td>\n",
       "      <td>6</td>\n",
       "      <td>22</td>\n",
       "      <td>47068.99</td>\n",
       "      <td>47306.32</td>\n",
       "      <td>49041.19</td>\n",
       "      <td>52369.34</td>\n",
       "      <td>...</td>\n",
       "      <td>45525.94</td>\n",
       "      <td>42237.75</td>\n",
       "      <td>39599.65</td>\n",
       "      <td>37803.14</td>\n",
       "      <td>37705.71</td>\n",
       "      <td>37789.72</td>\n",
       "      <td>38004.46</td>\n",
       "      <td>38869.25</td>\n",
       "      <td>40696.11</td>\n",
       "      <td>43386.63</td>\n",
       "    </tr>\n",
       "    <tr>\n",
       "      <th>2017-12-31 23:00:00</th>\n",
       "      <td>44407.63</td>\n",
       "      <td>2017</td>\n",
       "      <td>12</td>\n",
       "      <td>31</td>\n",
       "      <td>6</td>\n",
       "      <td>23</td>\n",
       "      <td>44983.93</td>\n",
       "      <td>47068.99</td>\n",
       "      <td>47306.32</td>\n",
       "      <td>49041.19</td>\n",
       "      <td>...</td>\n",
       "      <td>48242.97</td>\n",
       "      <td>45525.94</td>\n",
       "      <td>42237.75</td>\n",
       "      <td>39599.65</td>\n",
       "      <td>37803.14</td>\n",
       "      <td>37705.71</td>\n",
       "      <td>37789.72</td>\n",
       "      <td>38004.46</td>\n",
       "      <td>38869.25</td>\n",
       "      <td>40696.11</td>\n",
       "    </tr>\n",
       "  </tbody>\n",
       "</table>\n",
       "<p>26282 rows × 29 columns</p>\n",
       "</div>"
      ],
      "text/plain": [
       "                        Value  year  month  day  dayofweek  hournmb     lag_1  \\\n",
       "DateUTC                                                                         \n",
       "2015-01-01 22:00:00  47987.90  2015      1    1          3       22  50802.46   \n",
       "2015-01-01 23:00:00  45267.68  2015      1    1          3       23  47987.90   \n",
       "2015-01-02 00:00:00  43332.57  2015      1    2          4        0  45267.68   \n",
       "2015-01-02 01:00:00  42373.20  2015      1    2          4        1  43332.57   \n",
       "2015-01-02 02:00:00  42208.23  2015      1    2          4        2  42373.20   \n",
       "...                       ...   ...    ...  ...        ...      ...       ...   \n",
       "2017-12-31 19:00:00  49041.19  2017     12   31          6       19  52369.34   \n",
       "2017-12-31 20:00:00  47306.32  2017     12   31          6       20  49041.19   \n",
       "2017-12-31 21:00:00  47068.99  2017     12   31          6       21  47306.32   \n",
       "2017-12-31 22:00:00  44983.93  2017     12   31          6       22  47068.99   \n",
       "2017-12-31 23:00:00  44407.63  2017     12   31          6       23  44983.93   \n",
       "\n",
       "                        lag_2     lag_3     lag_4  ...    lag_14    lag_15  \\\n",
       "DateUTC                                            ...                       \n",
       "2015-01-01 22:00:00  51026.32  52220.90  54365.26  ...  42361.15  40049.74   \n",
       "2015-01-01 23:00:00  50802.46  51026.32  52220.90  ...  44998.15  42361.15   \n",
       "2015-01-02 00:00:00  47987.90  50802.46  51026.32  ...  48057.62  44998.15   \n",
       "2015-01-02 01:00:00  45267.68  47987.90  50802.46  ...  49133.93  48057.62   \n",
       "2015-01-02 02:00:00  43332.57  45267.68  47987.90  ...  48444.78  49133.93   \n",
       "...                       ...       ...       ...  ...       ...       ...   \n",
       "2017-12-31 19:00:00  55217.78  55723.32  52701.17  ...  37803.14  37705.71   \n",
       "2017-12-31 20:00:00  52369.34  55217.78  55723.32  ...  39599.65  37803.14   \n",
       "2017-12-31 21:00:00  49041.19  52369.34  55217.78  ...  42237.75  39599.65   \n",
       "2017-12-31 22:00:00  47306.32  49041.19  52369.34  ...  45525.94  42237.75   \n",
       "2017-12-31 23:00:00  47068.99  47306.32  49041.19  ...  48242.97  45525.94   \n",
       "\n",
       "                       lag_16    lag_17    lag_18    lag_19    lag_20  \\\n",
       "DateUTC                                                                 \n",
       "2015-01-01 22:00:00  39372.50  39132.17  40643.13  41330.17  41918.17   \n",
       "2015-01-01 23:00:00  40049.74  39372.50  39132.17  40643.13  41330.17   \n",
       "2015-01-02 00:00:00  42361.15  40049.74  39372.50  39132.17  40643.13   \n",
       "2015-01-02 01:00:00  44998.15  42361.15  40049.74  39372.50  39132.17   \n",
       "2015-01-02 02:00:00  48057.62  44998.15  42361.15  40049.74  39372.50   \n",
       "...                       ...       ...       ...       ...       ...   \n",
       "2017-12-31 19:00:00  37789.72  38004.46  38869.25  40696.11  43386.63   \n",
       "2017-12-31 20:00:00  37705.71  37789.72  38004.46  38869.25  40696.11   \n",
       "2017-12-31 21:00:00  37803.14  37705.71  37789.72  38004.46  38869.25   \n",
       "2017-12-31 22:00:00  39599.65  37803.14  37705.71  37789.72  38004.46   \n",
       "2017-12-31 23:00:00  42237.75  39599.65  37803.14  37705.71  37789.72   \n",
       "\n",
       "                       lag_21    lag_22    lag_23  \n",
       "DateUTC                                            \n",
       "2015-01-01 22:00:00  43305.31  44898.30  46419.79  \n",
       "2015-01-01 23:00:00  41918.17  43305.31  44898.30  \n",
       "2015-01-02 00:00:00  41330.17  41918.17  43305.31  \n",
       "2015-01-02 01:00:00  40643.13  41330.17  41918.17  \n",
       "2015-01-02 02:00:00  39132.17  40643.13  41330.17  \n",
       "...                       ...       ...       ...  \n",
       "2017-12-31 19:00:00  47122.58  50689.38  52207.48  \n",
       "2017-12-31 20:00:00  43386.63  47122.58  50689.38  \n",
       "2017-12-31 21:00:00  40696.11  43386.63  47122.58  \n",
       "2017-12-31 22:00:00  38869.25  40696.11  43386.63  \n",
       "2017-12-31 23:00:00  38004.46  38869.25  40696.11  \n",
       "\n",
       "[26282 rows x 29 columns]"
      ]
     },
     "execution_count": 12,
     "metadata": {},
     "output_type": "execute_result"
    }
   ],
   "source": [
    "df_de"
   ]
  },
  {
   "cell_type": "code",
   "execution_count": 13,
   "id": "ef2ddf0a",
   "metadata": {},
   "outputs": [
    {
     "name": "stdout",
     "output_type": "stream",
     "text": [
      "<class 'pandas.core.frame.DataFrame'>\n",
      "DatetimeIndex: 26282 entries, 2015-01-01 22:00:00 to 2017-12-31 23:00:00\n",
      "Data columns (total 29 columns):\n",
      " #   Column     Non-Null Count  Dtype  \n",
      "---  ------     --------------  -----  \n",
      " 0   Value      26282 non-null  float64\n",
      " 1   year       26282 non-null  int64  \n",
      " 2   month      26282 non-null  int64  \n",
      " 3   day        26282 non-null  int64  \n",
      " 4   dayofweek  26282 non-null  int64  \n",
      " 5   hournmb    26282 non-null  int64  \n",
      " 6   lag_1      26282 non-null  float64\n",
      " 7   lag_2      26282 non-null  float64\n",
      " 8   lag_3      26282 non-null  float64\n",
      " 9   lag_4      26282 non-null  float64\n",
      " 10  lag_5      26282 non-null  float64\n",
      " 11  lag_6      26282 non-null  float64\n",
      " 12  lag_7      26282 non-null  float64\n",
      " 13  lag_8      26282 non-null  float64\n",
      " 14  lag_9      26282 non-null  float64\n",
      " 15  lag_10     26282 non-null  float64\n",
      " 16  lag_11     26282 non-null  float64\n",
      " 17  lag_12     26282 non-null  float64\n",
      " 18  lag_13     26282 non-null  float64\n",
      " 19  lag_14     26282 non-null  float64\n",
      " 20  lag_15     26282 non-null  float64\n",
      " 21  lag_16     26282 non-null  float64\n",
      " 22  lag_17     26282 non-null  float64\n",
      " 23  lag_18     26282 non-null  float64\n",
      " 24  lag_19     26282 non-null  float64\n",
      " 25  lag_20     26282 non-null  float64\n",
      " 26  lag_21     26282 non-null  float64\n",
      " 27  lag_22     26282 non-null  float64\n",
      " 28  lag_23     26282 non-null  float64\n",
      "dtypes: float64(24), int64(5)\n",
      "memory usage: 6.0 MB\n"
     ]
    }
   ],
   "source": [
    "df_de.info()"
   ]
  },
  {
   "cell_type": "code",
   "execution_count": 14,
   "id": "1ff42433",
   "metadata": {},
   "outputs": [
    {
     "name": "stdout",
     "output_type": "stream",
     "text": [
      "True\n"
     ]
    }
   ],
   "source": [
    "print(df_de.index.is_monotonic)"
   ]
  },
  {
   "cell_type": "markdown",
   "id": "950456d3",
   "metadata": {},
   "source": [
    "Dividing the table into two selections."
   ]
  },
  {
   "cell_type": "code",
   "execution_count": 15,
   "id": "56f30f05",
   "metadata": {},
   "outputs": [
    {
     "name": "stdout",
     "output_type": "stream",
     "text": [
      "Wall time: 4 ms\n"
     ]
    }
   ],
   "source": [
    "%%time\n",
    "train, test = train_test_split(df_de, shuffle=False, test_size=0.2)"
   ]
  },
  {
   "cell_type": "code",
   "execution_count": 16,
   "id": "66d1ec50",
   "metadata": {},
   "outputs": [
    {
     "name": "stdout",
     "output_type": "stream",
     "text": [
      "Wall time: 3 ms\n"
     ]
    }
   ],
   "source": [
    "%%time\n",
    "target_train = train['Value']\n",
    "features_train = train.drop('Value', axis=1)\n",
    "target_test = test['Value']\n",
    "features_test = test.drop('Value', axis=1)"
   ]
  },
  {
   "cell_type": "markdown",
   "id": "49abba6a",
   "metadata": {},
   "source": [
    "# Model training"
   ]
  },
  {
   "cell_type": "code",
   "execution_count": 17,
   "id": "2be21133",
   "metadata": {},
   "outputs": [
    {
     "name": "stdout",
     "output_type": "stream",
     "text": [
      "RMSE: 1033.1741740998373\n",
      "Wall time: 271 ms\n"
     ]
    }
   ],
   "source": [
    "%%time\n",
    "model = LinearRegression()\n",
    "model.fit(features_train, target_train)\n",
    "pred = model.predict(features_test)\n",
    "print(\"RMSE:\", sqrt(mean_squared_error(target_test, pred)))"
   ]
  },
  {
   "cell_type": "code",
   "execution_count": 18,
   "id": "34068ed4",
   "metadata": {},
   "outputs": [
    {
     "name": "stdout",
     "output_type": "stream",
     "text": [
      "RMSD as a percentage of the average demand value\n",
      "1.7884290881103941\n"
     ]
    }
   ],
   "source": [
    "print('RMSD as a percentage of the average demand value')\n",
    "print((sqrt(mean_squared_error(target_test, pred))/df_de['Value'].mean())*100)"
   ]
  },
  {
   "cell_type": "code",
   "execution_count": 19,
   "id": "eb952a06",
   "metadata": {},
   "outputs": [
    {
     "data": {
      "text/plain": [
       "57769.92674568167"
      ]
     },
     "execution_count": 19,
     "metadata": {},
     "output_type": "execute_result"
    }
   ],
   "source": [
    "df_de['Value'].mean()"
   ]
  },
  {
   "cell_type": "code",
   "execution_count": 20,
   "id": "defaa3a1",
   "metadata": {},
   "outputs": [
    {
     "data": {
      "text/plain": [
       "1033.1741740998373"
      ]
     },
     "execution_count": 20,
     "metadata": {},
     "output_type": "execute_result"
    }
   ],
   "source": [
    "sqrt(mean_squared_error(target_test, pred))"
   ]
  },
  {
   "cell_type": "code",
   "execution_count": 21,
   "id": "2bb48137",
   "metadata": {},
   "outputs": [
    {
     "data": {
      "text/plain": [
       "array([41221.75892326, 40812.054516  , 39449.659762  , ...,\n",
       "       45838.22458387, 45327.15599272, 41440.11362456])"
      ]
     },
     "execution_count": 21,
     "metadata": {},
     "output_type": "execute_result"
    }
   ],
   "source": [
    "pred"
   ]
  },
  {
   "cell_type": "code",
   "execution_count": 22,
   "id": "046c50ec",
   "metadata": {
    "scrolled": true
   },
   "outputs": [
    {
     "data": {
      "text/plain": [
       "DateUTC\n",
       "2017-05-26 23:00:00    41693.08\n",
       "2017-05-27 00:00:00    40375.44\n",
       "2017-05-27 01:00:00    39966.05\n",
       "2017-05-27 02:00:00    39900.54\n",
       "2017-05-27 03:00:00    39988.21\n",
       "                         ...   \n",
       "2017-12-31 19:00:00    49041.19\n",
       "2017-12-31 20:00:00    47306.32\n",
       "2017-12-31 21:00:00    47068.99\n",
       "2017-12-31 22:00:00    44983.93\n",
       "2017-12-31 23:00:00    44407.63\n",
       "Name: Value, Length: 5257, dtype: float64"
      ]
     },
     "execution_count": 22,
     "metadata": {},
     "output_type": "execute_result"
    }
   ],
   "source": [
    "target_test"
   ]
  },
  {
   "cell_type": "code",
   "execution_count": 23,
   "id": "c93715c1",
   "metadata": {},
   "outputs": [
    {
     "name": "stdout",
     "output_type": "stream",
     "text": [
      "Wall time: 3min 42s\n"
     ]
    },
    {
     "data": {
      "text/plain": [
       "{'max_depth': 17, 'n_estimators': 17}"
      ]
     },
     "execution_count": 23,
     "metadata": {},
     "output_type": "execute_result"
    }
   ],
   "source": [
    "%%time\n",
    "tscv = TimeSeriesSplit()\n",
    "clf = RandomForestRegressor()\n",
    "parametrs = {'n_estimators': range (9, 19, 2), 'max_depth': range (9, 19, 2)}\n",
    "grid = GridSearchCV(clf, parametrs, cv=tscv)\n",
    "grid.fit(features_train, target_train)\n",
    "grid.best_params_"
   ]
  },
  {
   "cell_type": "code",
   "execution_count": 24,
   "id": "0419962d",
   "metadata": {},
   "outputs": [
    {
     "name": "stdout",
     "output_type": "stream",
     "text": [
      "507.5354380876218\n",
      "Wall time: 5.43 s\n"
     ]
    }
   ],
   "source": [
    "%%time\n",
    "model = RandomForestRegressor(**grid.best_params_, random_state=12345)\n",
    "model.fit(features_train, target_train)\n",
    "predictions = model.predict(features_test)\n",
    "print(sqrt(mean_squared_error(target_test, predictions)))"
   ]
  },
  {
   "cell_type": "code",
   "execution_count": 25,
   "id": "f5b966ed",
   "metadata": {},
   "outputs": [
    {
     "name": "stdout",
     "output_type": "stream",
     "text": [
      "RMSD as a percentage of the average demand value\n",
      "0.8785460994643902\n"
     ]
    }
   ],
   "source": [
    "print('RMSD as a percentage of the average demand value')\n",
    "print((sqrt(mean_squared_error(target_test, predictions))/df_de['Value'].mean())*100)"
   ]
  },
  {
   "cell_type": "code",
   "execution_count": 26,
   "id": "bfd8c2be",
   "metadata": {
    "scrolled": true
   },
   "outputs": [
    {
     "data": {
      "text/html": [
       "<div>\n",
       "<style scoped>\n",
       "    .dataframe tbody tr th:only-of-type {\n",
       "        vertical-align: middle;\n",
       "    }\n",
       "\n",
       "    .dataframe tbody tr th {\n",
       "        vertical-align: top;\n",
       "    }\n",
       "\n",
       "    .dataframe thead th {\n",
       "        text-align: right;\n",
       "    }\n",
       "</style>\n",
       "<table border=\"1\" class=\"dataframe\">\n",
       "  <thead>\n",
       "    <tr style=\"text-align: right;\">\n",
       "      <th></th>\n",
       "      <th>Value</th>\n",
       "      <th>year</th>\n",
       "      <th>month</th>\n",
       "      <th>day</th>\n",
       "      <th>dayofweek</th>\n",
       "      <th>hournmb</th>\n",
       "      <th>lag_1</th>\n",
       "      <th>lag_2</th>\n",
       "      <th>lag_3</th>\n",
       "      <th>lag_4</th>\n",
       "      <th>...</th>\n",
       "      <th>lag_14</th>\n",
       "      <th>lag_15</th>\n",
       "      <th>lag_16</th>\n",
       "      <th>lag_17</th>\n",
       "      <th>lag_18</th>\n",
       "      <th>lag_19</th>\n",
       "      <th>lag_20</th>\n",
       "      <th>lag_21</th>\n",
       "      <th>lag_22</th>\n",
       "      <th>lag_23</th>\n",
       "    </tr>\n",
       "    <tr>\n",
       "      <th>DateUTC</th>\n",
       "      <th></th>\n",
       "      <th></th>\n",
       "      <th></th>\n",
       "      <th></th>\n",
       "      <th></th>\n",
       "      <th></th>\n",
       "      <th></th>\n",
       "      <th></th>\n",
       "      <th></th>\n",
       "      <th></th>\n",
       "      <th></th>\n",
       "      <th></th>\n",
       "      <th></th>\n",
       "      <th></th>\n",
       "      <th></th>\n",
       "      <th></th>\n",
       "      <th></th>\n",
       "      <th></th>\n",
       "      <th></th>\n",
       "      <th></th>\n",
       "      <th></th>\n",
       "    </tr>\n",
       "  </thead>\n",
       "  <tbody>\n",
       "    <tr>\n",
       "      <th>2015-01-01 22:00:00</th>\n",
       "      <td>47987.90</td>\n",
       "      <td>2015</td>\n",
       "      <td>1</td>\n",
       "      <td>1</td>\n",
       "      <td>3</td>\n",
       "      <td>22</td>\n",
       "      <td>50802.46</td>\n",
       "      <td>51026.32</td>\n",
       "      <td>52220.90</td>\n",
       "      <td>54365.26</td>\n",
       "      <td>...</td>\n",
       "      <td>42361.15</td>\n",
       "      <td>40049.74</td>\n",
       "      <td>39372.50</td>\n",
       "      <td>39132.17</td>\n",
       "      <td>40643.13</td>\n",
       "      <td>41330.17</td>\n",
       "      <td>41918.17</td>\n",
       "      <td>43305.31</td>\n",
       "      <td>44898.30</td>\n",
       "      <td>46419.79</td>\n",
       "    </tr>\n",
       "    <tr>\n",
       "      <th>2015-01-01 23:00:00</th>\n",
       "      <td>45267.68</td>\n",
       "      <td>2015</td>\n",
       "      <td>1</td>\n",
       "      <td>1</td>\n",
       "      <td>3</td>\n",
       "      <td>23</td>\n",
       "      <td>47987.90</td>\n",
       "      <td>50802.46</td>\n",
       "      <td>51026.32</td>\n",
       "      <td>52220.90</td>\n",
       "      <td>...</td>\n",
       "      <td>44998.15</td>\n",
       "      <td>42361.15</td>\n",
       "      <td>40049.74</td>\n",
       "      <td>39372.50</td>\n",
       "      <td>39132.17</td>\n",
       "      <td>40643.13</td>\n",
       "      <td>41330.17</td>\n",
       "      <td>41918.17</td>\n",
       "      <td>43305.31</td>\n",
       "      <td>44898.30</td>\n",
       "    </tr>\n",
       "    <tr>\n",
       "      <th>2015-01-02 00:00:00</th>\n",
       "      <td>43332.57</td>\n",
       "      <td>2015</td>\n",
       "      <td>1</td>\n",
       "      <td>2</td>\n",
       "      <td>4</td>\n",
       "      <td>0</td>\n",
       "      <td>45267.68</td>\n",
       "      <td>47987.90</td>\n",
       "      <td>50802.46</td>\n",
       "      <td>51026.32</td>\n",
       "      <td>...</td>\n",
       "      <td>48057.62</td>\n",
       "      <td>44998.15</td>\n",
       "      <td>42361.15</td>\n",
       "      <td>40049.74</td>\n",
       "      <td>39372.50</td>\n",
       "      <td>39132.17</td>\n",
       "      <td>40643.13</td>\n",
       "      <td>41330.17</td>\n",
       "      <td>41918.17</td>\n",
       "      <td>43305.31</td>\n",
       "    </tr>\n",
       "    <tr>\n",
       "      <th>2015-01-02 01:00:00</th>\n",
       "      <td>42373.20</td>\n",
       "      <td>2015</td>\n",
       "      <td>1</td>\n",
       "      <td>2</td>\n",
       "      <td>4</td>\n",
       "      <td>1</td>\n",
       "      <td>43332.57</td>\n",
       "      <td>45267.68</td>\n",
       "      <td>47987.90</td>\n",
       "      <td>50802.46</td>\n",
       "      <td>...</td>\n",
       "      <td>49133.93</td>\n",
       "      <td>48057.62</td>\n",
       "      <td>44998.15</td>\n",
       "      <td>42361.15</td>\n",
       "      <td>40049.74</td>\n",
       "      <td>39372.50</td>\n",
       "      <td>39132.17</td>\n",
       "      <td>40643.13</td>\n",
       "      <td>41330.17</td>\n",
       "      <td>41918.17</td>\n",
       "    </tr>\n",
       "    <tr>\n",
       "      <th>2015-01-02 02:00:00</th>\n",
       "      <td>42208.23</td>\n",
       "      <td>2015</td>\n",
       "      <td>1</td>\n",
       "      <td>2</td>\n",
       "      <td>4</td>\n",
       "      <td>2</td>\n",
       "      <td>42373.20</td>\n",
       "      <td>43332.57</td>\n",
       "      <td>45267.68</td>\n",
       "      <td>47987.90</td>\n",
       "      <td>...</td>\n",
       "      <td>48444.78</td>\n",
       "      <td>49133.93</td>\n",
       "      <td>48057.62</td>\n",
       "      <td>44998.15</td>\n",
       "      <td>42361.15</td>\n",
       "      <td>40049.74</td>\n",
       "      <td>39372.50</td>\n",
       "      <td>39132.17</td>\n",
       "      <td>40643.13</td>\n",
       "      <td>41330.17</td>\n",
       "    </tr>\n",
       "    <tr>\n",
       "      <th>...</th>\n",
       "      <td>...</td>\n",
       "      <td>...</td>\n",
       "      <td>...</td>\n",
       "      <td>...</td>\n",
       "      <td>...</td>\n",
       "      <td>...</td>\n",
       "      <td>...</td>\n",
       "      <td>...</td>\n",
       "      <td>...</td>\n",
       "      <td>...</td>\n",
       "      <td>...</td>\n",
       "      <td>...</td>\n",
       "      <td>...</td>\n",
       "      <td>...</td>\n",
       "      <td>...</td>\n",
       "      <td>...</td>\n",
       "      <td>...</td>\n",
       "      <td>...</td>\n",
       "      <td>...</td>\n",
       "      <td>...</td>\n",
       "      <td>...</td>\n",
       "    </tr>\n",
       "    <tr>\n",
       "      <th>2017-12-31 19:00:00</th>\n",
       "      <td>49041.19</td>\n",
       "      <td>2017</td>\n",
       "      <td>12</td>\n",
       "      <td>31</td>\n",
       "      <td>6</td>\n",
       "      <td>19</td>\n",
       "      <td>52369.34</td>\n",
       "      <td>55217.78</td>\n",
       "      <td>55723.32</td>\n",
       "      <td>52701.17</td>\n",
       "      <td>...</td>\n",
       "      <td>37803.14</td>\n",
       "      <td>37705.71</td>\n",
       "      <td>37789.72</td>\n",
       "      <td>38004.46</td>\n",
       "      <td>38869.25</td>\n",
       "      <td>40696.11</td>\n",
       "      <td>43386.63</td>\n",
       "      <td>47122.58</td>\n",
       "      <td>50689.38</td>\n",
       "      <td>52207.48</td>\n",
       "    </tr>\n",
       "    <tr>\n",
       "      <th>2017-12-31 20:00:00</th>\n",
       "      <td>47306.32</td>\n",
       "      <td>2017</td>\n",
       "      <td>12</td>\n",
       "      <td>31</td>\n",
       "      <td>6</td>\n",
       "      <td>20</td>\n",
       "      <td>49041.19</td>\n",
       "      <td>52369.34</td>\n",
       "      <td>55217.78</td>\n",
       "      <td>55723.32</td>\n",
       "      <td>...</td>\n",
       "      <td>39599.65</td>\n",
       "      <td>37803.14</td>\n",
       "      <td>37705.71</td>\n",
       "      <td>37789.72</td>\n",
       "      <td>38004.46</td>\n",
       "      <td>38869.25</td>\n",
       "      <td>40696.11</td>\n",
       "      <td>43386.63</td>\n",
       "      <td>47122.58</td>\n",
       "      <td>50689.38</td>\n",
       "    </tr>\n",
       "    <tr>\n",
       "      <th>2017-12-31 21:00:00</th>\n",
       "      <td>47068.99</td>\n",
       "      <td>2017</td>\n",
       "      <td>12</td>\n",
       "      <td>31</td>\n",
       "      <td>6</td>\n",
       "      <td>21</td>\n",
       "      <td>47306.32</td>\n",
       "      <td>49041.19</td>\n",
       "      <td>52369.34</td>\n",
       "      <td>55217.78</td>\n",
       "      <td>...</td>\n",
       "      <td>42237.75</td>\n",
       "      <td>39599.65</td>\n",
       "      <td>37803.14</td>\n",
       "      <td>37705.71</td>\n",
       "      <td>37789.72</td>\n",
       "      <td>38004.46</td>\n",
       "      <td>38869.25</td>\n",
       "      <td>40696.11</td>\n",
       "      <td>43386.63</td>\n",
       "      <td>47122.58</td>\n",
       "    </tr>\n",
       "    <tr>\n",
       "      <th>2017-12-31 22:00:00</th>\n",
       "      <td>44983.93</td>\n",
       "      <td>2017</td>\n",
       "      <td>12</td>\n",
       "      <td>31</td>\n",
       "      <td>6</td>\n",
       "      <td>22</td>\n",
       "      <td>47068.99</td>\n",
       "      <td>47306.32</td>\n",
       "      <td>49041.19</td>\n",
       "      <td>52369.34</td>\n",
       "      <td>...</td>\n",
       "      <td>45525.94</td>\n",
       "      <td>42237.75</td>\n",
       "      <td>39599.65</td>\n",
       "      <td>37803.14</td>\n",
       "      <td>37705.71</td>\n",
       "      <td>37789.72</td>\n",
       "      <td>38004.46</td>\n",
       "      <td>38869.25</td>\n",
       "      <td>40696.11</td>\n",
       "      <td>43386.63</td>\n",
       "    </tr>\n",
       "    <tr>\n",
       "      <th>2017-12-31 23:00:00</th>\n",
       "      <td>44407.63</td>\n",
       "      <td>2017</td>\n",
       "      <td>12</td>\n",
       "      <td>31</td>\n",
       "      <td>6</td>\n",
       "      <td>23</td>\n",
       "      <td>44983.93</td>\n",
       "      <td>47068.99</td>\n",
       "      <td>47306.32</td>\n",
       "      <td>49041.19</td>\n",
       "      <td>...</td>\n",
       "      <td>48242.97</td>\n",
       "      <td>45525.94</td>\n",
       "      <td>42237.75</td>\n",
       "      <td>39599.65</td>\n",
       "      <td>37803.14</td>\n",
       "      <td>37705.71</td>\n",
       "      <td>37789.72</td>\n",
       "      <td>38004.46</td>\n",
       "      <td>38869.25</td>\n",
       "      <td>40696.11</td>\n",
       "    </tr>\n",
       "  </tbody>\n",
       "</table>\n",
       "<p>26282 rows × 29 columns</p>\n",
       "</div>"
      ],
      "text/plain": [
       "                        Value  year  month  day  dayofweek  hournmb     lag_1  \\\n",
       "DateUTC                                                                         \n",
       "2015-01-01 22:00:00  47987.90  2015      1    1          3       22  50802.46   \n",
       "2015-01-01 23:00:00  45267.68  2015      1    1          3       23  47987.90   \n",
       "2015-01-02 00:00:00  43332.57  2015      1    2          4        0  45267.68   \n",
       "2015-01-02 01:00:00  42373.20  2015      1    2          4        1  43332.57   \n",
       "2015-01-02 02:00:00  42208.23  2015      1    2          4        2  42373.20   \n",
       "...                       ...   ...    ...  ...        ...      ...       ...   \n",
       "2017-12-31 19:00:00  49041.19  2017     12   31          6       19  52369.34   \n",
       "2017-12-31 20:00:00  47306.32  2017     12   31          6       20  49041.19   \n",
       "2017-12-31 21:00:00  47068.99  2017     12   31          6       21  47306.32   \n",
       "2017-12-31 22:00:00  44983.93  2017     12   31          6       22  47068.99   \n",
       "2017-12-31 23:00:00  44407.63  2017     12   31          6       23  44983.93   \n",
       "\n",
       "                        lag_2     lag_3     lag_4  ...    lag_14    lag_15  \\\n",
       "DateUTC                                            ...                       \n",
       "2015-01-01 22:00:00  51026.32  52220.90  54365.26  ...  42361.15  40049.74   \n",
       "2015-01-01 23:00:00  50802.46  51026.32  52220.90  ...  44998.15  42361.15   \n",
       "2015-01-02 00:00:00  47987.90  50802.46  51026.32  ...  48057.62  44998.15   \n",
       "2015-01-02 01:00:00  45267.68  47987.90  50802.46  ...  49133.93  48057.62   \n",
       "2015-01-02 02:00:00  43332.57  45267.68  47987.90  ...  48444.78  49133.93   \n",
       "...                       ...       ...       ...  ...       ...       ...   \n",
       "2017-12-31 19:00:00  55217.78  55723.32  52701.17  ...  37803.14  37705.71   \n",
       "2017-12-31 20:00:00  52369.34  55217.78  55723.32  ...  39599.65  37803.14   \n",
       "2017-12-31 21:00:00  49041.19  52369.34  55217.78  ...  42237.75  39599.65   \n",
       "2017-12-31 22:00:00  47306.32  49041.19  52369.34  ...  45525.94  42237.75   \n",
       "2017-12-31 23:00:00  47068.99  47306.32  49041.19  ...  48242.97  45525.94   \n",
       "\n",
       "                       lag_16    lag_17    lag_18    lag_19    lag_20  \\\n",
       "DateUTC                                                                 \n",
       "2015-01-01 22:00:00  39372.50  39132.17  40643.13  41330.17  41918.17   \n",
       "2015-01-01 23:00:00  40049.74  39372.50  39132.17  40643.13  41330.17   \n",
       "2015-01-02 00:00:00  42361.15  40049.74  39372.50  39132.17  40643.13   \n",
       "2015-01-02 01:00:00  44998.15  42361.15  40049.74  39372.50  39132.17   \n",
       "2015-01-02 02:00:00  48057.62  44998.15  42361.15  40049.74  39372.50   \n",
       "...                       ...       ...       ...       ...       ...   \n",
       "2017-12-31 19:00:00  37789.72  38004.46  38869.25  40696.11  43386.63   \n",
       "2017-12-31 20:00:00  37705.71  37789.72  38004.46  38869.25  40696.11   \n",
       "2017-12-31 21:00:00  37803.14  37705.71  37789.72  38004.46  38869.25   \n",
       "2017-12-31 22:00:00  39599.65  37803.14  37705.71  37789.72  38004.46   \n",
       "2017-12-31 23:00:00  42237.75  39599.65  37803.14  37705.71  37789.72   \n",
       "\n",
       "                       lag_21    lag_22    lag_23  \n",
       "DateUTC                                            \n",
       "2015-01-01 22:00:00  43305.31  44898.30  46419.79  \n",
       "2015-01-01 23:00:00  41918.17  43305.31  44898.30  \n",
       "2015-01-02 00:00:00  41330.17  41918.17  43305.31  \n",
       "2015-01-02 01:00:00  40643.13  41330.17  41918.17  \n",
       "2015-01-02 02:00:00  39132.17  40643.13  41330.17  \n",
       "...                       ...       ...       ...  \n",
       "2017-12-31 19:00:00  47122.58  50689.38  52207.48  \n",
       "2017-12-31 20:00:00  43386.63  47122.58  50689.38  \n",
       "2017-12-31 21:00:00  40696.11  43386.63  47122.58  \n",
       "2017-12-31 22:00:00  38869.25  40696.11  43386.63  \n",
       "2017-12-31 23:00:00  38004.46  38869.25  40696.11  \n",
       "\n",
       "[26282 rows x 29 columns]"
      ]
     },
     "execution_count": 26,
     "metadata": {},
     "output_type": "execute_result"
    }
   ],
   "source": [
    "df_de"
   ]
  },
  {
   "cell_type": "code",
   "execution_count": 27,
   "id": "92a51ee2",
   "metadata": {},
   "outputs": [
    {
     "name": "stdout",
     "output_type": "stream",
     "text": [
      "Wall time: 7.36 s\n"
     ]
    },
    {
     "data": {
      "text/plain": [
       "{'max_depth': 15, 'n_estimators': 17}"
      ]
     },
     "execution_count": 27,
     "metadata": {},
     "output_type": "execute_result"
    }
   ],
   "source": [
    "%%time\n",
    "tscv = TimeSeriesSplit()\n",
    "clf = LGBMRegressor()\n",
    "parametrs = {'n_estimators': range (9, 19, 2), 'max_depth': range (15, 25, 2)}\n",
    "grid = GridSearchCV(clf, parametrs, cv=tscv)\n",
    "grid.fit(features_train, target_train)\n",
    "grid.best_params_"
   ]
  },
  {
   "cell_type": "code",
   "execution_count": 28,
   "id": "c77593c5",
   "metadata": {},
   "outputs": [
    {
     "name": "stdout",
     "output_type": "stream",
     "text": [
      "2039.9348362958397\n",
      "Wall time: 105 ms\n"
     ]
    }
   ],
   "source": [
    "%%time\n",
    "model = LGBMRegressor(**grid.best_params_, random_state=12345)\n",
    "model.fit(features_train, target_train)\n",
    "predictions = model.predict(features_test)\n",
    "print(sqrt(mean_squared_error(target_test, predictions)))"
   ]
  },
  {
   "cell_type": "code",
   "execution_count": 29,
   "id": "babe1073",
   "metadata": {},
   "outputs": [
    {
     "name": "stdout",
     "output_type": "stream",
     "text": [
      "RMSD as a percentage of the average demand value\n",
      "3.5311362696999193\n"
     ]
    }
   ],
   "source": [
    "print('RMSD as a percentage of the average demand value')\n",
    "print((sqrt(mean_squared_error(target_test, predictions))/df_de['Value'].mean())*100)"
   ]
  },
  {
   "cell_type": "code",
   "execution_count": 30,
   "id": "cb1cb998",
   "metadata": {},
   "outputs": [
    {
     "name": "stdout",
     "output_type": "stream",
     "text": [
      "Wall time: 1min\n"
     ]
    },
    {
     "data": {
      "text/plain": [
       "{'leaf_size': 1, 'n_neighbors': 3}"
      ]
     },
     "execution_count": 30,
     "metadata": {},
     "output_type": "execute_result"
    }
   ],
   "source": [
    "%%time\n",
    "tscv = TimeSeriesSplit()\n",
    "clf = KNeighborsRegressor()\n",
    "parametrs = {'n_neighbors': range (1, 10, 2), 'leaf_size': range (1, 10, 2)}\n",
    "grid = GridSearchCV(clf, parametrs, cv=tscv)\n",
    "grid.fit(features_train, target_train)\n",
    "grid.best_params_"
   ]
  },
  {
   "cell_type": "code",
   "execution_count": 31,
   "id": "cb8f6d45",
   "metadata": {},
   "outputs": [
    {
     "name": "stdout",
     "output_type": "stream",
     "text": [
      "863.2220750847735\n",
      "Wall time: 1.37 s\n"
     ]
    }
   ],
   "source": [
    "%%time\n",
    "model = KNeighborsRegressor(**grid.best_params_)\n",
    "model.fit(features_train, target_train)\n",
    "predictions = model.predict(features_test)\n",
    "print(sqrt(mean_squared_error(target_test, predictions)))"
   ]
  },
  {
   "cell_type": "code",
   "execution_count": 32,
   "id": "5e417f5c",
   "metadata": {},
   "outputs": [
    {
     "name": "stdout",
     "output_type": "stream",
     "text": [
      "RMSD as a percentage of the average demand value\n",
      "1.4942412492314605\n"
     ]
    }
   ],
   "source": [
    "print('RMSD as a percentage of the average demand value')\n",
    "print((sqrt(mean_squared_error(target_test, predictions))/df_de['Value'].mean())*100)"
   ]
  },
  {
   "cell_type": "markdown",
   "id": "968deb17",
   "metadata": {},
   "source": [
    "# Сonclusions"
   ]
  },
  {
   "cell_type": "markdown",
   "id": "d3cacf8c",
   "metadata": {},
   "source": [
    "The best result (RMSD 507.53 or 0.878 as a percentage of the average demand value) was achieved through the use of the RandomForestRegressor algorithm. Better results may be achived by examing wider grid parameters range< using different algoritms and features scaling."
   ]
  }
 ],
 "metadata": {
  "kernelspec": {
   "display_name": "Python 3",
   "language": "python",
   "name": "python3"
  },
  "language_info": {
   "codemirror_mode": {
    "name": "ipython",
    "version": 3
   },
   "file_extension": ".py",
   "mimetype": "text/x-python",
   "name": "python",
   "nbconvert_exporter": "python",
   "pygments_lexer": "ipython3",
   "version": "3.8.8"
  }
 },
 "nbformat": 4,
 "nbformat_minor": 5
}
